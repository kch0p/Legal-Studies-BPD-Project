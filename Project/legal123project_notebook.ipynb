{
 "cells": [
  {
   "cell_type": "markdown",
   "metadata": {},
   "source": [
    "# [LEGALST 123] Project --- Are There Racial Disparities in Berkeley Police Stops? (possible to look through income relationships as well?)"
   ]
  },
  {
   "cell_type": "markdown",
   "metadata": {},
   "source": [
    "Project Group: Emily Chan, KC Harris, Peter Zhang"
   ]
  },
  {
   "cell_type": "code",
   "execution_count": 97,
   "metadata": {},
   "outputs": [],
   "source": [
    "import numpy as np\n",
    "import datetime as dt\n",
    "import pandas as pd\n",
    "import matplotlib.pyplot as plt\n",
    "%matplotlib inline\n",
    "from sklearn.preprocessing import StandardScaler\n",
    "from sklearn.model_selection import train_test_split\n",
    "from sklearn.linear_model import Ridge, Lasso, LinearRegression\n",
    "from sklearn.model_selection import KFold\n",
    "import seaborn as sns"
   ]
  },
  {
   "cell_type": "markdown",
   "metadata": {},
   "source": [
    "---\n",
    "\n",
    "## Introduction\n"
   ]
  },
  {
   "cell_type": "markdown",
   "metadata": {},
   "source": [
    "<b>Why is this important?</b> "
   ]
  },
  {
   "cell_type": "markdown",
   "metadata": {},
   "source": [
    "---\n",
    "\n",
    "## Getting the Data"
   ]
  },
  {
   "cell_type": "code",
   "execution_count": 5,
   "metadata": {},
   "outputs": [
    {
     "data": {
      "text/html": [
       "<div>\n",
       "<style scoped>\n",
       "    .dataframe tbody tr th:only-of-type {\n",
       "        vertical-align: middle;\n",
       "    }\n",
       "\n",
       "    .dataframe tbody tr th {\n",
       "        vertical-align: top;\n",
       "    }\n",
       "\n",
       "    .dataframe thead th {\n",
       "        text-align: right;\n",
       "    }\n",
       "</style>\n",
       "<table border=\"1\" class=\"dataframe\">\n",
       "  <thead>\n",
       "    <tr style=\"text-align: right;\">\n",
       "      <th></th>\n",
       "      <th>CreateDatetime</th>\n",
       "      <th>IncidentNumber</th>\n",
       "      <th>Address</th>\n",
       "      <th>City</th>\n",
       "      <th>Lat</th>\n",
       "      <th>Lon</th>\n",
       "      <th>CallType</th>\n",
       "      <th>Race</th>\n",
       "      <th>Gender</th>\n",
       "      <th>Age</th>\n",
       "      <th>Reason</th>\n",
       "      <th>Enforcement</th>\n",
       "      <th>Car Search</th>\n",
       "    </tr>\n",
       "  </thead>\n",
       "  <tbody>\n",
       "    <tr>\n",
       "      <th>0</th>\n",
       "      <td>03/24/2015 07:10:06 AM</td>\n",
       "      <td>2015-00017130</td>\n",
       "      <td>1775 SAN PABLO AVE</td>\n",
       "      <td>BERKELEY</td>\n",
       "      <td>37.871890</td>\n",
       "      <td>-122.292715</td>\n",
       "      <td>1194</td>\n",
       "      <td>Black</td>\n",
       "      <td>Male</td>\n",
       "      <td>&gt;40</td>\n",
       "      <td>Reas. Susp.</td>\n",
       "      <td>Citation</td>\n",
       "      <td>No Search</td>\n",
       "    </tr>\n",
       "    <tr>\n",
       "      <th>1</th>\n",
       "      <td>03/14/2018 04:25:55 PM</td>\n",
       "      <td>2018-00015116</td>\n",
       "      <td>ANTHONY ST / 7TH ST</td>\n",
       "      <td>BERKELEY</td>\n",
       "      <td>37.852226</td>\n",
       "      <td>-122.291495</td>\n",
       "      <td>T</td>\n",
       "      <td>White</td>\n",
       "      <td>Female</td>\n",
       "      <td>30-39</td>\n",
       "      <td>Traffic</td>\n",
       "      <td>Citation</td>\n",
       "      <td>No Search</td>\n",
       "    </tr>\n",
       "    <tr>\n",
       "      <th>2</th>\n",
       "      <td>11/06/2016 07:15:42 AM</td>\n",
       "      <td>2016-00065741</td>\n",
       "      <td>RUSSELL ST / MABEL ST</td>\n",
       "      <td>BERKELEY</td>\n",
       "      <td>37.854113</td>\n",
       "      <td>-122.284193</td>\n",
       "      <td>1196</td>\n",
       "      <td>White</td>\n",
       "      <td>Male</td>\n",
       "      <td>&gt;40</td>\n",
       "      <td>Investigation</td>\n",
       "      <td>Warning</td>\n",
       "      <td>No Search</td>\n",
       "    </tr>\n",
       "    <tr>\n",
       "      <th>3</th>\n",
       "      <td>03/06/2015 12:02:43 AM</td>\n",
       "      <td>2015-00013345</td>\n",
       "      <td>UNIVERSITY AVE / 7TH ST</td>\n",
       "      <td>BERKELEY</td>\n",
       "      <td>37.868202</td>\n",
       "      <td>-122.296625</td>\n",
       "      <td>1194</td>\n",
       "      <td>White</td>\n",
       "      <td>Male</td>\n",
       "      <td>&gt;40</td>\n",
       "      <td>Reas. Susp.</td>\n",
       "      <td>Warning</td>\n",
       "      <td>Search</td>\n",
       "    </tr>\n",
       "    <tr>\n",
       "      <th>4</th>\n",
       "      <td>11/02/2017 11:16:24 PM</td>\n",
       "      <td>2017-00066848</td>\n",
       "      <td>NaN</td>\n",
       "      <td>NaN</td>\n",
       "      <td>37.860996</td>\n",
       "      <td>-122.256144</td>\n",
       "      <td>1194</td>\n",
       "      <td>White</td>\n",
       "      <td>Male</td>\n",
       "      <td>&gt;40</td>\n",
       "      <td>Reas. Susp.</td>\n",
       "      <td>Warning</td>\n",
       "      <td>Search</td>\n",
       "    </tr>\n",
       "  </tbody>\n",
       "</table>\n",
       "</div>"
      ],
      "text/plain": [
       "           CreateDatetime IncidentNumber                  Address      City  \\\n",
       "0  03/24/2015 07:10:06 AM  2015-00017130       1775 SAN PABLO AVE  BERKELEY   \n",
       "1  03/14/2018 04:25:55 PM  2018-00015116      ANTHONY ST / 7TH ST  BERKELEY   \n",
       "2  11/06/2016 07:15:42 AM  2016-00065741    RUSSELL ST / MABEL ST  BERKELEY   \n",
       "3  03/06/2015 12:02:43 AM  2015-00013345  UNIVERSITY AVE / 7TH ST  BERKELEY   \n",
       "4  11/02/2017 11:16:24 PM  2017-00066848                      NaN       NaN   \n",
       "\n",
       "         Lat         Lon CallType   Race  Gender    Age         Reason  \\\n",
       "0  37.871890 -122.292715     1194  Black    Male    >40    Reas. Susp.   \n",
       "1  37.852226 -122.291495        T  White  Female  30-39        Traffic   \n",
       "2  37.854113 -122.284193     1196  White    Male    >40  Investigation   \n",
       "3  37.868202 -122.296625     1194  White    Male    >40    Reas. Susp.   \n",
       "4  37.860996 -122.256144     1194  White    Male    >40    Reas. Susp.   \n",
       "\n",
       "  Enforcement Car Search  \n",
       "0    Citation  No Search  \n",
       "1    Citation  No Search  \n",
       "2     Warning  No Search  \n",
       "3     Warning     Search  \n",
       "4     Warning     Search  "
      ]
     },
     "execution_count": 5,
     "metadata": {},
     "output_type": "execute_result"
    }
   ],
   "source": [
    "berkeley_data_2015_to_2020 = pd.read_csv('Berkeley PD Stop Data 2015 to 2020.csv')\n",
    "berkeley_data_2015_to_2020.head(5)"
   ]
  },
  {
   "cell_type": "code",
   "execution_count": 7,
   "metadata": {},
   "outputs": [
    {
     "data": {
      "text/html": [
       "<div>\n",
       "<style scoped>\n",
       "    .dataframe tbody tr th:only-of-type {\n",
       "        vertical-align: middle;\n",
       "    }\n",
       "\n",
       "    .dataframe tbody tr th {\n",
       "        vertical-align: top;\n",
       "    }\n",
       "\n",
       "    .dataframe thead th {\n",
       "        text-align: right;\n",
       "    }\n",
       "</style>\n",
       "<table border=\"1\" class=\"dataframe\">\n",
       "  <thead>\n",
       "    <tr style=\"text-align: right;\">\n",
       "      <th></th>\n",
       "      <th>LEA Record ID</th>\n",
       "      <th>Person Number</th>\n",
       "      <th>Date of Stop</th>\n",
       "      <th>Time of Stop</th>\n",
       "      <th>Duration of Stop</th>\n",
       "      <th>Is Stop Made in Response to Call for Service</th>\n",
       "      <th>Information Based Stop</th>\n",
       "      <th>Type Of Stop</th>\n",
       "      <th>Officer Type of Assignment</th>\n",
       "      <th>Location</th>\n",
       "      <th>...</th>\n",
       "      <th>Type of Property Seized</th>\n",
       "      <th>Contraband or Evidence</th>\n",
       "      <th>Other Contraband Desc</th>\n",
       "      <th>Warning Offense Codes</th>\n",
       "      <th>Citation Offense Codes</th>\n",
       "      <th>Result of Stop</th>\n",
       "      <th>In field cite and release Offense Codes</th>\n",
       "      <th>Custodial arrest Offense Codes</th>\n",
       "      <th>LAT</th>\n",
       "      <th>LONG</th>\n",
       "    </tr>\n",
       "  </thead>\n",
       "  <tbody>\n",
       "    <tr>\n",
       "      <th>0</th>\n",
       "      <td>BPD000021033</td>\n",
       "      <td>1</td>\n",
       "      <td>10/01/2020</td>\n",
       "      <td>11:14</td>\n",
       "      <td>8</td>\n",
       "      <td>False</td>\n",
       "      <td>NaN</td>\n",
       "      <td>Vehicle</td>\n",
       "      <td>Patrol, traffic enforcement, field operations</td>\n",
       "      <td>2900 block of Shattuck Ave</td>\n",
       "      <td>...</td>\n",
       "      <td>NaN</td>\n",
       "      <td>None</td>\n",
       "      <td>NaN</td>\n",
       "      <td>NaN</td>\n",
       "      <td>VC 23123(A) USE CELLPH W/DRIV W/O HFD (I) | VC...</td>\n",
       "      <td>Citation for infraction</td>\n",
       "      <td>NaN</td>\n",
       "      <td>NaN</td>\n",
       "      <td>37.855313</td>\n",
       "      <td>-122.266571</td>\n",
       "    </tr>\n",
       "    <tr>\n",
       "      <th>1</th>\n",
       "      <td>BPD000021032</td>\n",
       "      <td>2</td>\n",
       "      <td>10/01/2020</td>\n",
       "      <td>09:40</td>\n",
       "      <td>15</td>\n",
       "      <td>True</td>\n",
       "      <td>NaN</td>\n",
       "      <td>Pedestrian</td>\n",
       "      <td>Patrol, traffic enforcement, field operations</td>\n",
       "      <td>3000 block of San Pablo Ave</td>\n",
       "      <td>...</td>\n",
       "      <td>NaN</td>\n",
       "      <td>None</td>\n",
       "      <td>NaN</td>\n",
       "      <td>PC 602 TRESPASSING (M)</td>\n",
       "      <td>NaN</td>\n",
       "      <td>Warning (verbal or written)</td>\n",
       "      <td>NaN</td>\n",
       "      <td>NaN</td>\n",
       "      <td>37.851856</td>\n",
       "      <td>-122.286553</td>\n",
       "    </tr>\n",
       "    <tr>\n",
       "      <th>2</th>\n",
       "      <td>BPD000021035</td>\n",
       "      <td>1</td>\n",
       "      <td>10/01/2020</td>\n",
       "      <td>14:32</td>\n",
       "      <td>60</td>\n",
       "      <td>True</td>\n",
       "      <td>NaN</td>\n",
       "      <td>Pedestrian</td>\n",
       "      <td>Patrol, traffic enforcement, field operations</td>\n",
       "      <td>2000 block of 10th St</td>\n",
       "      <td>...</td>\n",
       "      <td>NaN</td>\n",
       "      <td>Suspected stolen property|Ammunition|Drug para...</td>\n",
       "      <td>NaN</td>\n",
       "      <td>NaN</td>\n",
       "      <td>NaN</td>\n",
       "      <td>Custodial arrest without warrant</td>\n",
       "      <td>NaN</td>\n",
       "      <td>PC 484 THEFT (M) | VC 10852 TAMPER WITH VEHICL...</td>\n",
       "      <td>37.868619</td>\n",
       "      <td>-122.293213</td>\n",
       "    </tr>\n",
       "    <tr>\n",
       "      <th>3</th>\n",
       "      <td>BPD000021034</td>\n",
       "      <td>1</td>\n",
       "      <td>10/01/2020</td>\n",
       "      <td>15:07</td>\n",
       "      <td>7</td>\n",
       "      <td>True</td>\n",
       "      <td>NaN</td>\n",
       "      <td>Pedestrian</td>\n",
       "      <td>Patrol, traffic enforcement, field operations</td>\n",
       "      <td>2600 block of Durant Ave</td>\n",
       "      <td>...</td>\n",
       "      <td>NaN</td>\n",
       "      <td>Weapon(s) other than a firearm</td>\n",
       "      <td>NaN</td>\n",
       "      <td>AA 65002 LOCAL ORDINANCE VIOL (I)</td>\n",
       "      <td>NaN</td>\n",
       "      <td>Warning (verbal or written)</td>\n",
       "      <td>NaN</td>\n",
       "      <td>NaN</td>\n",
       "      <td>37.868025</td>\n",
       "      <td>-122.256493</td>\n",
       "    </tr>\n",
       "    <tr>\n",
       "      <th>4</th>\n",
       "      <td>BPD000021029</td>\n",
       "      <td>1</td>\n",
       "      <td>10/01/2020</td>\n",
       "      <td>10:15</td>\n",
       "      <td>5</td>\n",
       "      <td>False</td>\n",
       "      <td>NaN</td>\n",
       "      <td>Vehicle</td>\n",
       "      <td>Patrol, traffic enforcement, field operations</td>\n",
       "      <td>College and Ashby</td>\n",
       "      <td>...</td>\n",
       "      <td>NaN</td>\n",
       "      <td>None</td>\n",
       "      <td>NaN</td>\n",
       "      <td>NaN</td>\n",
       "      <td>VC 22450(A) FAIL STOP VEH:XWALK/ETC (I)</td>\n",
       "      <td>Citation for infraction</td>\n",
       "      <td>NaN</td>\n",
       "      <td>NaN</td>\n",
       "      <td>37.857030</td>\n",
       "      <td>-122.253055</td>\n",
       "    </tr>\n",
       "  </tbody>\n",
       "</table>\n",
       "<p>5 rows × 45 columns</p>\n",
       "</div>"
      ],
      "text/plain": [
       "  LEA Record ID  Person Number Date of Stop Time of Stop  Duration of Stop  \\\n",
       "0  BPD000021033              1   10/01/2020        11:14                 8   \n",
       "1  BPD000021032              2   10/01/2020        09:40                15   \n",
       "2  BPD000021035              1   10/01/2020        14:32                60   \n",
       "3  BPD000021034              1   10/01/2020        15:07                 7   \n",
       "4  BPD000021029              1   10/01/2020        10:15                 5   \n",
       "\n",
       "   Is Stop Made in Response to Call for Service Information Based Stop  \\\n",
       "0                                         False                    NaN   \n",
       "1                                          True                    NaN   \n",
       "2                                          True                    NaN   \n",
       "3                                          True                    NaN   \n",
       "4                                         False                    NaN   \n",
       "\n",
       "  Type Of Stop                     Officer Type of Assignment  \\\n",
       "0      Vehicle  Patrol, traffic enforcement, field operations   \n",
       "1   Pedestrian  Patrol, traffic enforcement, field operations   \n",
       "2   Pedestrian  Patrol, traffic enforcement, field operations   \n",
       "3   Pedestrian  Patrol, traffic enforcement, field operations   \n",
       "4      Vehicle  Patrol, traffic enforcement, field operations   \n",
       "\n",
       "                      Location  ... Type of Property Seized  \\\n",
       "0   2900 block of Shattuck Ave  ...                     NaN   \n",
       "1  3000 block of San Pablo Ave  ...                     NaN   \n",
       "2        2000 block of 10th St  ...                     NaN   \n",
       "3     2600 block of Durant Ave  ...                     NaN   \n",
       "4            College and Ashby  ...                     NaN   \n",
       "\n",
       "                              Contraband or Evidence Other Contraband Desc  \\\n",
       "0                                               None                   NaN   \n",
       "1                                               None                   NaN   \n",
       "2  Suspected stolen property|Ammunition|Drug para...                   NaN   \n",
       "3                     Weapon(s) other than a firearm                   NaN   \n",
       "4                                               None                   NaN   \n",
       "\n",
       "               Warning Offense Codes  \\\n",
       "0                                NaN   \n",
       "1             PC 602 TRESPASSING (M)   \n",
       "2                                NaN   \n",
       "3  AA 65002 LOCAL ORDINANCE VIOL (I)   \n",
       "4                                NaN   \n",
       "\n",
       "                              Citation Offense Codes  \\\n",
       "0  VC 23123(A) USE CELLPH W/DRIV W/O HFD (I) | VC...   \n",
       "1                                                NaN   \n",
       "2                                                NaN   \n",
       "3                                                NaN   \n",
       "4            VC 22450(A) FAIL STOP VEH:XWALK/ETC (I)   \n",
       "\n",
       "                     Result of Stop  In field cite and release Offense Codes  \\\n",
       "0           Citation for infraction                                      NaN   \n",
       "1       Warning (verbal or written)                                      NaN   \n",
       "2  Custodial arrest without warrant                                      NaN   \n",
       "3       Warning (verbal or written)                                      NaN   \n",
       "4           Citation for infraction                                      NaN   \n",
       "\n",
       "                      Custodial arrest Offense Codes        LAT        LONG  \n",
       "0                                                NaN  37.855313 -122.266571  \n",
       "1                                                NaN  37.851856 -122.286553  \n",
       "2  PC 484 THEFT (M) | VC 10852 TAMPER WITH VEHICL...  37.868619 -122.293213  \n",
       "3                                                NaN  37.868025 -122.256493  \n",
       "4                                                NaN  37.857030 -122.253055  \n",
       "\n",
       "[5 rows x 45 columns]"
      ]
     },
     "execution_count": 7,
     "metadata": {},
     "output_type": "execute_result"
    }
   ],
   "source": [
    "berkeley_data_2020_to_present = pd.read_csv('Berkeley PD Stop Data 2020 to Present.csv')\n",
    "berkeley_data_2020_to_present.head(5)"
   ]
  },
  {
   "cell_type": "code",
   "execution_count": 1,
   "metadata": {},
   "outputs": [],
   "source": [
    "import geopandas\n",
    "from shapely.geometry import Point"
   ]
  },
  {
   "cell_type": "code",
   "execution_count": 7,
   "metadata": {},
   "outputs": [
    {
     "name": "stderr",
     "output_type": "stream",
     "text": [
      "/Users/peterzhang/opt/miniconda3/lib/python3.6/site-packages/IPython/core/interactiveshell.py:3072: DtypeWarning: Columns (1,9,14,17,18,19,20,21,22,23,24,27,28,29,30,31,32,33,34,35,36,37,38,39,40,41,42,43,44,45,46) have mixed types.Specify dtype option on import or set low_memory=False.\n",
      "  interactivity=interactivity, compiler=compiler, result=result)\n"
     ]
    }
   ],
   "source": [
    "berkeley = geopandas.read_file('Census Tract Polygons 2010.geojson')\n",
    "stops = pd.read_csv('All_Stops.csv')"
   ]
  },
  {
   "cell_type": "code",
   "execution_count": 3,
   "metadata": {},
   "outputs": [
    {
     "data": {
      "text/plain": [
       "'4229'"
      ]
     },
     "execution_count": 3,
     "metadata": {},
     "output_type": "execute_result"
    }
   ],
   "source": [
    "berkeley['name10'][31]#.contains(Point(-122.2679364,37.86849199))"
   ]
  },
  {
   "cell_type": "code",
   "execution_count": 16,
   "metadata": {},
   "outputs": [],
   "source": [
    "berkeley\n",
    "stop_point = [Point(stops['LONG'][i], stops['LAT'][i]) for i in np.arange(len(stops))]"
   ]
  },
  {
   "cell_type": "code",
   "execution_count": 27,
   "metadata": {},
   "outputs": [],
   "source": [
    "tt = [berkeley['geometry'].contains(stop_point[i]) for i in np.arange(len(stop_point))]"
   ]
  },
  {
   "cell_type": "code",
   "execution_count": 58,
   "metadata": {},
   "outputs": [],
   "source": [
    "judge = [np.where(tt[i] == True)[0] for i in np.arange(len(tt))]"
   ]
  },
  {
   "cell_type": "code",
   "execution_count": 75,
   "metadata": {},
   "outputs": [],
   "source": [
    "tract_column = [i[0] if i.size > 0  else -1 for i in judge]\n",
    "stops['tract'] = tract_column"
   ]
  },
  {
   "cell_type": "code",
   "execution_count": 99,
   "metadata": {},
   "outputs": [
    {
     "data": {
      "text/plain": [
       "<matplotlib.axes._subplots.AxesSubplot at 0x7fcdaf9825f8>"
      ]
     },
     "execution_count": 99,
     "metadata": {},
     "output_type": "execute_result"
    },
    {
     "data": {
      "image/png": "[encoded data removed]",
      "text/plain": [
       "<Figure size 432x288 with 1 Axes>"
      ]
     },
     "metadata": {
      "needs_background": "light"
     },
     "output_type": "display_data"
    }
   ],
   "source": [
    "stop_count_per_tract = pd.DataFrame(stops.groupby('tract').count()['LAT']).rename(columns = {'LAT':'Count'}).reset_index()\n",
    "sns.barplot(x = stop_count_per_tract['tract'], y = stop_count_per_tract['Count'])"
   ]
  },
  {
   "cell_type": "code",
   "execution_count": 101,
   "metadata": {},
   "outputs": [],
   "source": [
    "stops.to_csv('All_Stops.csv')"
   ]
  },
  {
   "cell_type": "code",
   "execution_count": null,
   "metadata": {},
   "outputs": [],
   "source": []
  }
 ],
 "metadata": {
  "kernelspec": {
   "display_name": "Python 3",
   "language": "python",
   "name": "python3"
  },
  "language_info": {
   "codemirror_mode": {
    "name": "ipython",
    "version": 3
   },
   "file_extension": ".py",
   "mimetype": "text/x-python",
   "name": "python",
   "nbconvert_exporter": "python",
   "pygments_lexer": "ipython3",
   "version": "3.6.12"
  }
 },
 "nbformat": 4,
 "nbformat_minor": 5
}
