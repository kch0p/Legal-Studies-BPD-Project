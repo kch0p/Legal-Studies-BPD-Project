{
 "cells": [
  {
   "cell_type": "markdown",
   "id": "9ebb1707",
   "metadata": {},
   "source": [
    "# Intro"
   ]
  },
  {
   "cell_type": "markdown",
   "id": "1a855e1b",
   "metadata": {},
   "source": [
    "Collection and use of data will be evaluated based on adherence to ethical data collection standards, appropriateness to question, inventiveness in acquiring and combining data, and clarity in explanation of data gathering methods and dataset content.\n",
    "\n",
    "Please zip everything up in the same folder and submit it as a .zip file; that is the general rule for the project from here on out.\n",
    "\n",
    "* data applicability to research question (10)\n",
    "* adherence to ethical data collection standards (5)\n",
    "* inventiveness in getting and combining data (5)\n",
    "* description of data (variables/features, cases/data points, descriptive stats, cautions) (10)\n",
    "* visualizations to help understand data (15)\n",
    "* total (45)\n",
    "\n",
    "link to submission page: https://bcourses.berkeley.edu/courses/1512529/assignments/8378811"
   ]
  },
  {
   "cell_type": "markdown",
   "id": "a8aa2bff",
   "metadata": {},
   "source": [
    "# ANSWERS"
   ]
  },
  {
   "cell_type": "markdown",
   "id": "bf9fb972",
   "metadata": {},
   "source": [
    "I'll write a few questions below that I think address the rubric categories above, and then show some of the analysis work done so far in .html format. I'll also mention the working notebooks where you can observe the code behind the current results. "
   ]
  },
  {
   "cell_type": "markdown",
   "id": "dade22fa",
   "metadata": {},
   "source": [
    "1) What data have you collected since the project proposal (https://docs.google.com/document/d/1o4Q8z-uRmixhoNnLF6B_a4ndurB0-rnuHJ4l39faVZo/edit#heading=h.7epfqccawfn1)? How is it relevant to your original goal of seeking out any racial disparities in stops conducted by the Berkeley Police Department? "
   ]
  },
  {
   "cell_type": "markdown",
   "id": "abcabdee",
   "metadata": {},
   "source": [
    "The initial part of this project was just spent merging the two police stop datasets (2015-2020, 60k obs) (2020-2022, 8k obs) and re-classifying certain columns to match like citation code, reason for stop, race, datetime, etc. I later found a .geojson file containing the geometries for census tracts in the city of berkeley, as well as searched the census website and produced/organized sheets with the 2020 racial compositions and income data for all 31 census tracts. \n",
    "\n",
    "I organized those sheets into excel workbooks on the side (available in the 'Data' folder of the .zip file), and in my project files integrated them alongside the stops data both in the python and .geojson files. Because of this, the geojson file now displays income, racial composition, and total population as well. I finalized the .geojson by finding a list of all of the schools in berkeley and adding them as minimally classified markers. These were also used in the final visualizations. \n",
    "\n",
    "\n",
    "Census Page Race (And if you change it, Income) Data: https://data.census.gov/cedsci/table?t=Race%20and%20Ethnicity&g=1400000US060014,06001421100,06001421200,06001421300,06001421400,06001421500,06001421600,06001421700,06001421800,06001421900,06001422000,06001422100,06001422200,06001422300,06001422400,06001422500,06001422600,06001422700,06001422800,06001422900,06001422901,06001422902,06001423000,06001423100,06001423200,06001423300,06001423400,06001423500,06001423601,06001423602,06001423700,06001423800,06001423901,06001423902,06001424001&tid=ACSDT5Y2020.B02001\n",
    "\n",
    "Census Tract GeoJson: https://data.cityofberkeley.info/Demographics/Census-Tract-Polygons-2010/peq3-2arw\n",
    "\n",
    "List of Berkeley Schools: https://www.berkeleyschools.net/"
   ]
  },
  {
   "cell_type": "markdown",
   "id": "2122da01",
   "metadata": {},
   "source": [
    "2) What specific features/variables are you coding and or/observing for your project now that you have the data? Is there anything you're missing, or still trying to collect? What are your analysis methods going to look like? "
   ]
  },
  {
   "cell_type": "markdown",
   "id": "7751bc33",
   "metadata": {},
   "source": [
    "One major variable I'm preparing to analyze is percieved race prior to stop, as well as race of person stopped, and if this correlates to the duration of the stop. Methods for this could range from linear regression to modelling, and possibly z-testing. We can also do a binomial logistic regression on if an arrest occured or not, and see what the odds of this are given the race of the person being stopped. I'm very interested in seeing if the odds differ by race, or even by census tract. \n",
    "\n",
    "Unfortunately, I've been unable to find a similar dataset for actual crimes occuring in Berkeley that goes back further than 30 days. I've done a little bit of research, and while I did find a report by The Center for Police Equity that was able to gain access to crime data and more from 2010-2015, other organizations have not been able to do the same. I may submit a request now and see if I merge this data down the line, but for now we're limited to stops. Even with my minimal analysis so far though, I think we'll still be able to make some decent comparisions within our data.\n",
    "\n",
    "Center for Police Equity Report: https://www.berkeleyside.org/wp-content/uploads/2018/05/Berkeley-Report-May-2018.pdf"
   ]
  },
  {
   "cell_type": "markdown",
   "id": "9dbcfd2d",
   "metadata": {},
   "source": [
    "3) Please describe some of the visualizations you've created to help grasp the data/what your hypothesis is observing. "
   ]
  },
  {
   "cell_type": "markdown",
   "id": "32dd8b6c",
   "metadata": {},
   "source": [
    "So far I've created three main visualizations: one choropleth map that demonstrates amount of stops by census tract, one heatmap that shows stop patterns in general and also contains tract info, and a circle map that shows the more precise location of crimes both within tracts and in berkeley overall. Each is uniquely valuable in getting a look at the data, particularly in that I've created layer controls so that you can view the maps in different tile formats, and also in that I've taken the merged census data for income/racial composition in all of the tracts and made them visible in the maps as well. I'm really proud of the interactivity and am excited to see how we can develop these more as the project continues. \n",
    "\n",
    "An immediate observation from working with the data (with emphasis on the heat map) is that distance from the university doesn't actually have a directly positive relationship with number of stops. I'm guessing now that it may have some curvilinear relationship - that it's not necessarily how far you are from the university, but rather if you are CLOSE or FAR from it instead. Notably there have also been a few concentrations of stops surrounding some of the elementary school pins. I'm excited to see if these are traffic stops related to school zone speed limits, or if they have to do with something else. \n",
    "\n",
    "The three maps are available for viewing in the \"Exports\" folder of the .zip file. They should be clickable and will open in your browser. "
   ]
  }
 ],
 "metadata": {
  "kernelspec": {
   "display_name": "Python 3 (ipykernel)",
   "language": "python",
   "name": "python3"
  },
  "language_info": {
   "codemirror_mode": {
    "name": "ipython",
    "version": 3
   },
   "file_extension": ".py",
   "mimetype": "text/x-python",
   "name": "python",
   "nbconvert_exporter": "python",
   "pygments_lexer": "ipython3",
   "version": "3.9.12"
  }
 },
 "nbformat": 4,
 "nbformat_minor": 5
}
